{
 "cells": [
  {
   "cell_type": "code",
   "execution_count": null,
   "id": "750263c2",
   "metadata": {},
   "outputs": [],
   "source": [
    "# a method to calculate composite material properties based on fiber and matrix properties\n",
    "class CompositeProperties:\n",
    "    #defining object to be called (6 properties, 3 method)\n",
    "    def __init__(self, Ef, Em, vf, vm, Gf, Gm):\n",
    "        self.Ef = Ef\n",
    "        self.Em = Em\n",
    "        self.vf = vf\n",
    "        self.vm = vm\n",
    "        self.Gf = Gf\n",
    "        self.Gm = Gm\n",
    "    #calculate E in x-direction\n",
    "    def E1(self):\n",
    "        return self.Ef*self.vf+self.Em*self.vm\n",
    "    #calculate E in y-direction\n",
    "    def E2(self):\n",
    "        return (self.Ef*self.Em)/(self.vf*self.Em+self.vm*self.Ef)\n",
    "    #calculate G in xy-direction\n",
    "    def G12(self):\n",
    "        return (self.Gf*self.Gm)/(self.vm*self.Gf+self.vf*self.Gm)\n",
    "    "
   ]
  },
  {
   "cell_type": "code",
   "execution_count": null,
   "id": "6de523fd",
   "metadata": {},
   "outputs": [],
   "source": [
    "#inputting object to the function\n",
    "p1 = CompositeProperties(10, 10, 10, 10, 10, 10)\n",
    "#printing the results of calculation\n",
    "print(p1.E1())\n",
    "print(p1.E2())\n",
    "print(p1.G12())"
   ]
  }
 ],
 "metadata": {
  "kernelspec": {
   "display_name": "Python 3",
   "language": "python",
   "name": "python3"
  },
  "language_info": {
   "codemirror_mode": {
    "name": "ipython",
    "version": 3
   },
   "file_extension": ".py",
   "mimetype": "text/x-python",
   "name": "python",
   "nbconvert_exporter": "python",
   "pygments_lexer": "ipython3",
   "version": "3.8.8"
  }
 },
 "nbformat": 4,
 "nbformat_minor": 5
}
