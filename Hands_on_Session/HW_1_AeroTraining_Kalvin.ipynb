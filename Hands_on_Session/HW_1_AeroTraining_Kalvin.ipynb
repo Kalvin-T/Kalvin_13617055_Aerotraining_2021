{
 "cells": [
  {
   "cell_type": "code",
   "execution_count": 1,
   "id": "1e383a39",
   "metadata": {},
   "outputs": [
    {
     "name": "stdout",
     "output_type": "stream",
     "text": [
      "1\n",
      "2\n",
      "Fizz\n",
      "4\n",
      "Buzz\n",
      "Fizz\n",
      "7\n",
      "8\n",
      "Fizz\n",
      "Buzz\n",
      "11\n",
      "Fizz\n",
      "13\n",
      "14\n",
      "FizzBuzz\n",
      "16\n",
      "17\n",
      "Fizz\n",
      "19\n",
      "Buzz\n",
      "Fizz\n",
      "22\n",
      "23\n",
      "Fizz\n",
      "Buzz\n",
      "26\n",
      "Fizz\n",
      "28\n",
      "29\n",
      "FizzBuzz\n",
      "31\n",
      "32\n",
      "Fizz\n",
      "34\n",
      "Buzz\n",
      "Fizz\n",
      "37\n",
      "38\n",
      "Fizz\n",
      "Buzz\n",
      "41\n",
      "Fizz\n",
      "43\n",
      "44\n",
      "FizzBuzz\n",
      "46\n",
      "47\n",
      "Fizz\n",
      "49\n",
      "Buzz\n",
      "Fizz\n",
      "52\n",
      "53\n",
      "Fizz\n",
      "Buzz\n",
      "56\n",
      "Fizz\n",
      "58\n",
      "59\n",
      "FizzBuzz\n",
      "61\n",
      "62\n",
      "Fizz\n",
      "64\n",
      "Buzz\n",
      "Fizz\n",
      "67\n",
      "68\n",
      "Fizz\n",
      "Buzz\n",
      "71\n",
      "Fizz\n",
      "73\n",
      "74\n",
      "FizzBuzz\n",
      "76\n",
      "77\n",
      "Fizz\n",
      "79\n",
      "Buzz\n",
      "Fizz\n",
      "82\n",
      "83\n",
      "Fizz\n",
      "Buzz\n",
      "86\n",
      "Fizz\n",
      "88\n",
      "89\n",
      "FizzBuzz\n",
      "91\n",
      "92\n",
      "Fizz\n",
      "94\n",
      "Buzz\n",
      "Fizz\n",
      "97\n",
      "98\n",
      "Fizz\n",
      "Buzz\n"
     ]
    }
   ],
   "source": [
    "i = 1\n",
    "while i<=100:\n",
    "    if i%3==0 and i%5==0:\n",
    "        print(\"FizzBuzz\")\n",
    "    elif i%3==0:\n",
    "        print(\"Fizz\")\n",
    "    elif i%5==0:\n",
    "        print(\"Buzz\")\n",
    "    else:\n",
    "        print(i)\n",
    "    i+=1"
   ]
  },
  {
   "cell_type": "markdown",
   "id": "7079e902",
   "metadata": {},
   "source": [
    "State the first number, i as 1 to start the sequence. After that, begin checking the numbers one by one until it reached 100 using the while function (i <=100 as the condition). The \"FizzBuzz\" could be checked using both modulus 3 and 5 (both conditions must be satisfied as we are using 'and' command) using the if command. The other requirements for the condition to be satisfied will be checked using elif command. If no conditions are satisfied, it will only print the number itself."
   ]
  },
  {
   "cell_type": "code",
   "execution_count": 4,
   "id": "b3853309",
   "metadata": {},
   "outputs": [
    {
     "name": "stdout",
     "output_type": "stream",
     "text": [
      "Enter Word: civic\n",
      "Yes\n"
     ]
    }
   ],
   "source": [
    "kata = input(\"Enter Word: \")\n",
    "n = len(kata)\n",
    "i = -1\n",
    "b=str()\n",
    "while i>=-n:\n",
    "    a = kata[i]\n",
    "    b=b+a\n",
    "    i-=1\n",
    "if b == kata:\n",
    "    print(\"Yes\")\n",
    "else:\n",
    "    print(\"No\")"
   ]
  },
  {
   "cell_type": "markdown",
   "id": "51264a8e",
   "metadata": {},
   "source": [
    "Begin by asking for user input. Store the length of the word in 'n' variable. The main idea is to call each alphabet of the word starting from the last alphabet going to the left and storing them into another variable, let's say 'b'. Because we are starting from the last alphabet, state 'i = -1'. Create a variable to store the alphabets in string type. Using while, we will call each alphabet (using 'kata[i]') and store it to variable 'b'. Add each alphabet into variable 'b' by using 'b=b+a'. It will repeat until all alphabets in the word are called and stored in variable 'b'. Using if command, we will compare the word in variable 'b' to the variable 'kata' which stores the user's input."
   ]
  }
 ],
 "metadata": {
  "kernelspec": {
   "display_name": "Python 3",
   "language": "python",
   "name": "python3"
  },
  "language_info": {
   "codemirror_mode": {
    "name": "ipython",
    "version": 3
   },
   "file_extension": ".py",
   "mimetype": "text/x-python",
   "name": "python",
   "nbconvert_exporter": "python",
   "pygments_lexer": "ipython3",
   "version": "3.8.8"
  }
 },
 "nbformat": 4,
 "nbformat_minor": 5
}
